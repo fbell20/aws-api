{
 "cells": [
  {
   "cell_type": "code",
   "execution_count": null,
   "metadata": {},
   "outputs": [],
   "source": [
    "import 'package:flutter/material.dart';\n",
    "\n",
    "void main() {\n",
    "  runApp(ButtonApp());\n",
    "}\n",
    "\n",
    "class ButtonApp extends StatelessWidget {\n",
    "  @override\n",
    "  Widget build(BuildContext context) {\n",
    "    return MaterialApp(\n",
    "      home: Scaffold(\n",
    "        appBar: AppBar(\n",
    "          title: Text('Button App'),\n",
    "        ),\n",
    "        body: Center(\n",
    "          child: ElevatedButton(\n",
    "            onPressed: () {\n",
    "              // Perform an action when the button is pressed\n",
    "              print('Button Pressed');\n",
    "            },\n",
    "            child: Text('Press Me if Davonte is your King'),\n",
    "          ),\n",
    "        ),\n",
    "      ),\n",
    "    );\n",
    "  }\n",
    "}\n",
    "\n",
    "\n"
   ]
  }
 ],
 "metadata": {
  "language_info": {
   "name": "python"
  },
  "orig_nbformat": 4
 },
 "nbformat": 4,
 "nbformat_minor": 2
}
